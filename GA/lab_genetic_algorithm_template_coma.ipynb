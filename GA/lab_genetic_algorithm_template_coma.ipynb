{
 "cells": [
  {
   "cell_type": "code",
   "execution_count": 37,
   "id": "3a1b1c9b",
   "metadata": {
    "lines_to_next_cell": 2
   },
   "outputs": [],
   "source": [
    "from ioh import get_problem, ProblemClass\n",
    "from ioh import logger\n",
    "import sys\n",
    "import numpy as np\n",
    "import time"
   ]
  },
  {
   "cell_type": "code",
   "execution_count": 38,
   "id": "80684f60",
   "metadata": {},
   "outputs": [],
   "source": [
    "# Declaration of problems to be tested.\n",
    "# We obtain an interface of the OneMax problem here.\n",
    "dimension = 50"
   ]
  },
  {
   "cell_type": "code",
   "execution_count": 39,
   "id": "57b44098",
   "metadata": {},
   "outputs": [],
   "source": [
    "\"\"\"\n",
    "1 (fid) : The funciton ID of the problem in the problem suite. OneMax is 1 defined within the PBO class. 2 would correspond to another problem.\n",
    "dimension : The dimension of the problem, which we have set to 50.\n",
    "instance: In benchmarking libraries, problems often have multiple instances. These instances may vary slightly (e.g., different random noise, shifts, etc.) \n",
    "            to allow algorithms to be tested on a variety of conditions.\n",
    "om(x) return the fitness value of 'x'\n",
    "\"\"\"\n",
    "om = get_problem(1, dimension=dimension, instance=1, problem_class=ProblemClass.PBO)\n",
    "# We know the optimum of onemax\n",
    "optimum = dimension"
   ]
  },
  {
   "cell_type": "code",
   "execution_count": 40,
   "id": "88502a16",
   "metadata": {},
   "outputs": [],
   "source": [
    "# Create default logger compatible with IOHanalyzer\n",
    "# `root` indicates where the output files are stored.\n",
    "# `folder_name` is the name of the folder containing all output. You should compress the folder 'run' and upload it to IOHanalyzer.\n",
    "l = logger.Analyzer(root=\"data\", \n",
    "    folder_name=\"run\", \n",
    "    algorithm_name=\"genetic_algorithm\", \n",
    "    algorithm_info=\"The lab session of the evolutionary algorithm course in LIACS\")"
   ]
  },
  {
   "cell_type": "code",
   "execution_count": 41,
   "id": "a2f0113d",
   "metadata": {
    "lines_to_next_cell": 2
   },
   "outputs": [],
   "source": [
    "om.attach_logger(l)"
   ]
  },
  {
   "cell_type": "code",
   "execution_count": 42,
   "id": "bfdf7379",
   "metadata": {},
   "outputs": [],
   "source": [
    "# Parameters setting\n",
    "pop_size = 10\n",
    "tournament_k = 5\n",
    "mutation_rate = 0.01\n",
    "crossover_probability = 0.5"
   ]
  },
  {
   "cell_type": "code",
   "execution_count": 43,
   "id": "80faa8b1",
   "metadata": {
    "lines_to_next_cell": 1
   },
   "outputs": [],
   "source": [
    "# Uniform Crossover\n",
    "def crossover(p1, p2):\n",
    "    '''if np.random.uniform(0, 1)<crossover_probability:\n",
    "        cross_point = np.random.randint(0, 2, len(p1)).astype(np.bool_)\n",
    "        p1[cross_point] = p2[cross_point]'''\n",
    "    for i in range(len(p1)):\n",
    "        if np.random.rand() < crossover_probability:\n",
    "            p1[i] = p2[i]\n",
    "    return p1, p2"
   ]
  },
  {
   "cell_type": "code",
   "execution_count": 44,
   "id": "861d67ec",
   "metadata": {
    "lines_to_next_cell": 1
   },
   "outputs": [],
   "source": [
    "# Standard bit mutation using mutation rate p\n",
    "def mutation(p):\n",
    "    for mutation_point in range(len(p)):\n",
    "        if np.random.rand() < mutation_rate:\n",
    "            p[mutation_point] = 1 if p[mutation_point] == 0 else 0\n",
    "    return p\n"
   ]
  },
  {
   "cell_type": "code",
   "execution_count": 45,
   "id": "77d9c42c",
   "metadata": {
    "lines_to_next_cell": 1
   },
   "outputs": [],
   "source": [
    "# Using the Fitness proportional selection\n",
    "def mating_seletion(parent, parent_f) :\n",
    "    fitness = np.sum(parent_f)\n",
    "    p = parent_f/fitness\n",
    "    sum = [0]\n",
    "    for i in range(len(p)):\n",
    "        s = 0\n",
    "        for j in range(i+1):\n",
    "            s += p[j] \n",
    "        sum.append(s)\n",
    "    parents = []\n",
    "    for _ in range(pop_size):\n",
    "        roll = np.random.uniform(0,1)\n",
    "        for i in range(1, len(p)):\n",
    "            if roll>sum[i] and roll<sum[i+1]:\n",
    "                parents.append(parent[i])\n",
    "                break\n",
    "            else:\n",
    "                parents.append(parent[0])\n",
    "                break\n",
    "    \n",
    "    return np.array(parents)"
   ]
  },
  {
   "cell_type": "code",
   "execution_count": 46,
   "id": "30d3d9ff",
   "metadata": {
    "lines_to_next_cell": 1
   },
   "outputs": [],
   "source": [
    "def genetic_algorithm(func, budget = None):\n",
    "    \n",
    "    # budget of each run: 10000\n",
    "    if budget is None:\n",
    "        budget = 10000\n",
    "    \n",
    "    # f_opt : Optimal function value.\n",
    "    # x_opt : Optimal solution.\n",
    "    f_opt = sys.float_info.min\n",
    "    x_opt = None\n",
    "    \n",
    "    # parent : A list that holds the binary strings representing potential solutions or individuals in the current population.\n",
    "    # parent_f : A list that holds the fitness values corresponding to each individual in the parent list.\n",
    "    parent = []\n",
    "    parent_f = []\n",
    "    for i in range(pop_size):\n",
    "        # Initialization\n",
    "        parent.append(np.random.randint(2, size = func.meta_data.n_variables))\n",
    "        parent_f.append(func(parent[i]))\n",
    "        budget = budget - 1\n",
    "    \n",
    "    while (f_opt < optimum and budget > 0):\n",
    "        parent = np.array(parent)\n",
    "        parent_f = np.array(parent_f)\n",
    "        \n",
    "        parent = mating_seletion(parent, parent_f)\n",
    "        parent_f = np.zeros_like(parent)\n",
    "        for i in range(len(parent)):\n",
    "            parent_f[i] = func(parent[i])\n",
    "\n",
    "        \n",
    "        # Perform mating selection, crossover, and mutation to generate offspring\n",
    "        '''parent_index =  np.random.choice(len(parent), size = tournament_k, replace=False)\n",
    "        parent = parent[parent_index]\n",
    "        parent_f = parent_f[parent_index]'''\n",
    "\n",
    "        new_parent = []\n",
    "        new_parent_f = []\n",
    "        for i in range(len(parent)):\n",
    "            for j in range(i+1, len(parent)):\n",
    "                offspring1, offspring2 = crossover(parent[i], parent[j])\n",
    "                offspring1 = mutation(offspring1)\n",
    "                offspring2 = mutation(offspring2)\n",
    "                new_parent.append(offspring1)\n",
    "                new_parent_f.append(func(offspring1))\n",
    "                new_parent.append(offspring2)\n",
    "                new_parent_f.append(func(offspring2))\n",
    "                \n",
    "                '''parent = np.vstack((parent, offspring))\n",
    "                parent_f = np.insert(parent_f, len(parent_f), func(offspring))'''\n",
    "                budget = budget - 1\n",
    "        \n",
    "        for i in range(len(new_parent)):\n",
    "            if func(new_parent[i])>f_opt:\n",
    "                f_opt = func(new_parent[i])\n",
    "                x_opt = new_parent[i]\n",
    "        \n",
    "        new_parent_f = np.array(new_parent_f)\n",
    "        fitness_sort = np.argsort(new_parent_f)[::-1]\n",
    "        new_parent = np.array(new_parent)\n",
    "        parent = new_parent[fitness_sort][:pop_size]\n",
    "        parent_f = new_parent_f[fitness_sort][:pop_size]\n",
    "\n",
    "\n",
    "    \n",
    "    # ioh function, to reset the recording status of the function.\n",
    "    func.reset()\n",
    "    print(f_opt,x_opt)\n",
    "    return f_opt, x_opt"
   ]
  },
  {
   "cell_type": "code",
   "execution_count": 47,
   "id": "c797684f",
   "metadata": {
    "lines_to_next_cell": 1
   },
   "outputs": [],
   "source": [
    "def main():\n",
    "    # We run the algorithm 20 independent times.\n",
    "    for _ in range(20):\n",
    "        genetic_algorithm(om)"
   ]
  },
  {
   "cell_type": "code",
   "execution_count": 48,
   "id": "fe611611",
   "metadata": {},
   "outputs": [
    {
     "name": "stdout",
     "output_type": "stream",
     "text": [
      "41.0 [1 1 1 0 1 1 1 1 1 0 1 1 1 1 1 1 1 0 0 0 0 1 0 1 1 1 1 1 1 1 1 1 1 1 1 0 1\n",
      " 1 1 1 1 1 1 1 1 1 0 1 1 1]\n",
      "44.0 [0 1 1 1 1 1 1 1 1 1 0 1 1 0 1 1 1 1 1 1 1 1 1 1 1 0 1 0 1 1 1 0 1 1 1 1 1\n",
      " 1 1 1 1 1 1 1 1 1 1 1 1 1]\n",
      "44.0 [1 1 1 1 1 1 0 1 1 1 1 1 1 1 1 1 1 1 1 1 0 0 1 1 1 1 1 1 1 1 1 1 0 1 0 1 1\n",
      " 1 0 1 1 1 1 1 1 1 1 1 1 1]\n",
      "44.0 [1 1 1 1 1 0 0 1 1 1 1 1 1 1 1 1 1 1 1 1 0 1 1 1 1 1 1 1 1 1 0 1 1 1 1 1 1\n",
      " 1 1 1 1 1 1 1 0 1 1 0 1 1]\n",
      "41.0 [1 1 1 1 1 1 0 0 1 1 1 1 1 1 1 1 1 0 1 1 0 1 0 0 1 1 1 1 0 1 0 1 1 1 1 1 0\n",
      " 1 1 1 1 1 1 1 1 1 1 1 1 1]\n",
      "43.0 [1 1 1 1 1 1 1 1 1 1 1 1 0 1 1 1 1 1 1 1 1 1 1 1 1 1 1 0 1 1 0 1 1 1 0 1 1\n",
      " 1 1 1 1 0 1 1 1 1 1 0 1 0]\n",
      "41.0 [1 0 0 1 1 1 1 1 1 1 1 1 1 1 1 1 1 1 0 1 1 1 1 1 1 1 0 1 1 1 0 1 0 0 1 1 1\n",
      " 0 1 1 1 1 1 1 1 1 0 1 1 1]\n",
      "42.0 [1 1 1 1 1 1 1 1 0 1 1 1 1 1 1 1 1 0 0 1 1 1 1 1 1 1 0 1 1 0 1 1 1 0 1 1 1\n",
      " 1 1 1 1 0 1 1 1 1 1 1 1 0]\n",
      "44.0 [1 1 1 0 1 1 1 1 1 1 0 1 1 1 1 1 1 1 1 1 1 0 1 1 1 1 1 1 1 1 1 1 1 1 1 1 1\n",
      " 1 1 0 0 1 0 1 1 1 1 1 1 1]\n",
      "41.0 [1 1 1 1 1 1 0 1 0 0 1 1 1 1 1 1 0 1 1 0 1 1 1 1 1 1 1 1 1 1 1 0 1 1 0 1 1\n",
      " 1 1 1 1 1 1 1 1 0 1 1 1 0]\n",
      "45.0 [1 1 1 1 1 1 1 0 1 1 1 1 1 1 1 1 1 0 1 1 1 1 1 1 1 0 1 1 1 1 1 0 1 1 1 1 1\n",
      " 1 1 1 1 1 1 1 1 0 1 1 1 1]\n",
      "44.0 [1 1 1 0 0 1 1 1 0 1 1 1 1 1 1 1 1 1 1 1 1 1 1 0 1 1 1 1 0 1 1 1 1 1 0 1 1\n",
      " 1 1 1 1 1 1 1 1 1 1 1 1 1]\n",
      "43.0 [1 1 1 1 0 1 1 1 1 1 1 1 1 1 1 1 1 1 1 0 1 1 1 1 1 1 1 1 1 1 1 1 0 1 0 1 1\n",
      " 1 1 1 0 1 1 1 1 1 0 1 0 1]\n",
      "45.0 [1 1 1 1 1 1 1 1 1 1 1 1 1 0 1 1 1 1 1 1 1 1 1 1 0 1 1 0 1 1 1 1 1 1 1 1 1\n",
      " 1 1 1 1 0 1 0 1 1 1 1 1 1]\n",
      "40.0 [0 1 1 1 1 1 0 1 0 1 0 1 1 1 0 1 1 1 1 1 1 1 1 1 0 0 1 1 1 1 1 1 0 1 1 1 1\n",
      " 1 1 1 0 1 1 1 1 1 1 1 1 0]\n",
      "46.0 [1 1 1 1 1 1 1 1 1 1 1 1 1 1 1 1 1 1 1 0 1 1 0 1 0 1 1 1 1 1 1 1 1 1 1 1 1\n",
      " 1 1 1 1 0 1 1 1 1 1 1 1 1]\n",
      "39.0 [0 1 1 1 1 1 1 1 0 1 1 0 1 1 1 1 1 1 1 0 1 1 0 1 0 1 1 1 1 1 0 1 1 1 1 1 1\n",
      " 1 0 1 1 1 0 1 0 1 1 1 1 0]\n",
      "42.0 [1 0 1 1 1 0 0 1 1 1 0 1 1 1 1 1 1 1 1 1 1 1 1 1 1 1 0 1 1 1 0 1 1 0 1 1 1\n",
      " 1 1 1 1 1 1 1 1 0 1 1 1 1]\n",
      "41.0 [1 1 1 1 0 1 0 1 1 1 0 1 1 1 1 1 1 1 1 1 1 1 1 1 1 1 1 1 1 1 1 1 1 0 1 1 1\n",
      " 1 0 0 1 0 1 1 1 1 1 0 1 0]\n",
      "43.0 [0 1 0 1 1 0 1 1 1 1 1 1 1 1 1 1 1 1 0 1 1 1 1 0 1 1 1 1 0 1 1 1 1 1 1 1 1\n",
      " 1 1 1 1 1 1 1 1 1 0 1 1 1]\n",
      "The program takes 13.007730960845947 seconds\n"
     ]
    }
   ],
   "source": [
    "if __name__ == '__main__':\n",
    "  start = time.time()\n",
    "  main()\n",
    "  end = time.time()\n",
    "  print(\"The program takes %s seconds\" % (end-start))"
   ]
  },
  {
   "cell_type": "code",
   "execution_count": null,
   "id": "1c017589",
   "metadata": {},
   "outputs": [],
   "source": []
  },
  {
   "cell_type": "code",
   "execution_count": null,
   "id": "d0b927b3",
   "metadata": {},
   "outputs": [],
   "source": []
  }
 ],
 "metadata": {
  "jupytext": {
   "cell_metadata_filter": "-all",
   "main_language": "python",
   "notebook_metadata_filter": "-all"
  },
  "kernelspec": {
   "display_name": "BO",
   "language": "python",
   "name": "python3"
  },
  "language_info": {
   "codemirror_mode": {
    "name": "ipython",
    "version": 3
   },
   "file_extension": ".py",
   "mimetype": "text/x-python",
   "name": "python",
   "nbconvert_exporter": "python",
   "pygments_lexer": "ipython3",
   "version": "3.10.14"
  }
 },
 "nbformat": 4,
 "nbformat_minor": 5
}
