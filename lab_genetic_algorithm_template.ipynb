{
 "cells": [
  {
   "cell_type": "code",
   "execution_count": 14,
   "id": "3a1b1c9b",
   "metadata": {
    "lines_to_next_cell": 2
   },
   "outputs": [],
   "source": [
    "from ioh import get_problem, ProblemClass\n",
    "from ioh import logger\n",
    "import sys\n",
    "import numpy as np\n",
    "import time"
   ]
  },
  {
   "cell_type": "code",
   "execution_count": 15,
   "id": "80684f60",
   "metadata": {},
   "outputs": [],
   "source": [
    "# Declaration of problems to be tested.\n",
    "# We obtain an interface of the OneMax problem here.\n",
    "dimension = 50"
   ]
  },
  {
   "cell_type": "code",
   "execution_count": 16,
   "id": "57b44098",
   "metadata": {},
   "outputs": [],
   "source": [
    "\"\"\"\n",
    "1 (fid) : The funciton ID of the problem in the problem suite. OneMax is 1 defined within the PBO class. 2 would correspond to another problem.\n",
    "dimension : The dimension of the problem, which we have set to 50.\n",
    "instance: In benchmarking libraries, problems often have multiple instances. These instances may vary slightly (e.g., different random noise, shifts, etc.) \n",
    "            to allow algorithms to be tested on a variety of conditions.\n",
    "om(x) return the fitness value of 'x'\n",
    "\"\"\"\n",
    "om = get_problem(1, dimension=dimension, instance=1, problem_class=ProblemClass.PBO)\n",
    "# We know the optimum of onemax\n",
    "optimum = dimension"
   ]
  },
  {
   "cell_type": "code",
   "execution_count": 17,
   "id": "88502a16",
   "metadata": {},
   "outputs": [],
   "source": [
    "# Create default logger compatible with IOHanalyzer\n",
    "# `root` indicates where the output files are stored.\n",
    "# `folder_name` is the name of the folder containing all output. You should compress the folder 'run' and upload it to IOHanalyzer.\n",
    "l = logger.Analyzer(root=\"data\", \n",
    "    folder_name=\"run\", \n",
    "    algorithm_name=\"genetic_algorithm\", \n",
    "    algorithm_info=\"The lab session of the evolutionary algorithm course in LIACS\")"
   ]
  },
  {
   "cell_type": "code",
   "execution_count": 18,
   "id": "a2f0113d",
   "metadata": {
    "lines_to_next_cell": 2
   },
   "outputs": [],
   "source": [
    "om.attach_logger(l)"
   ]
  },
  {
   "cell_type": "code",
   "execution_count": 19,
   "id": "bfdf7379",
   "metadata": {},
   "outputs": [],
   "source": [
    "# Parameters setting\n",
    "pop_size = 10\n",
    "tournament_k = 5\n",
    "mutation_rate = 0.02\n",
    "crossover_probability = 0.5"
   ]
  },
  {
   "cell_type": "code",
   "execution_count": 20,
   "id": "80faa8b1",
   "metadata": {
    "lines_to_next_cell": 1
   },
   "outputs": [],
   "source": [
    "# Uniform Crossover\n",
    "def crossover(p1, p2):\n",
    "    if np.random.rand() < crossover_probability:\n",
    "        cross_points = np.random.randint(0, 2, size=len(p1)).astype(np.bool_)\n",
    "        p1[cross_points] = p2[cross_points]\n",
    "    return p1"
   ]
  },
  {
   "cell_type": "code",
   "execution_count": 21,
   "id": "861d67ec",
   "metadata": {
    "lines_to_next_cell": 1
   },
   "outputs": [],
   "source": [
    "# Standard bit mutation using mutation rate p\n",
    "def mutation(p):\n",
    "    for mutation_point in range(len(p)):\n",
    "        if np.random.rand() < mutation_rate:\n",
    "            p[mutation_point] = 1 if p[mutation_point] == 0 else 0\n",
    "    return p\n"
   ]
  },
  {
   "cell_type": "code",
   "execution_count": 22,
   "id": "77d9c42c",
   "metadata": {
    "lines_to_next_cell": 1
   },
   "outputs": [],
   "source": [
    "# Using the Fitness proportional selection\n",
    "def mating_seletion(parent, parent_f) :\n",
    "    parent = np.array(parent)\n",
    "    parent_f = np.array(parent_f)  \n",
    "    fitness_sum = np.sum(parent_f)\n",
    "    fitness = parent_f / fitness_sum\n",
    "    fitness_sort = np.argsort(fitness)[::-1]\n",
    "    return parent[fitness_sort][:pop_size]"
   ]
  },
  {
   "cell_type": "code",
   "execution_count": 23,
   "id": "30d3d9ff",
   "metadata": {
    "lines_to_next_cell": 1
   },
   "outputs": [],
   "source": [
    "def genetic_algorithm(func, budget = None):\n",
    "    \n",
    "    # budget of each run: 10000\n",
    "    if budget is None:\n",
    "        budget = 10000\n",
    "    \n",
    "    # f_opt : Optimal function value.\n",
    "    # x_opt : Optimal solution.\n",
    "    f_opt = sys.float_info.min\n",
    "    x_opt = None\n",
    "    \n",
    "    # parent : A list that holds the binary strings representing potential solutions or individuals in the current population.\n",
    "    # parent_f : A list that holds the fitness values corresponding to each individual in the parent list.\n",
    "    parent = []\n",
    "    parent_f = []\n",
    "    for i in range(pop_size):\n",
    "        # Initialization\n",
    "        parent.append(np.random.randint(2, size = func.meta_data.n_variables))\n",
    "        parent_f.append(func(parent[i]))\n",
    "        budget = budget - 1\n",
    "    \n",
    "    while (f_opt < optimum and budget > 0):\n",
    "        parent = np.array(parent)\n",
    "        parent_original = np.copy(parent)\n",
    "        parent_f = np.array(parent_f)\n",
    "        parent_f_original = np.copy(parent_f)\n",
    "        # Perform mating selection, crossover, and mutation to generate offspring\n",
    "        '''parent_index =  np.random.choice(len(parent), size = tournament_k, replace=False)\n",
    "        parent = parent[parent_index]\n",
    "        parent_f = parent_f[parent_index]\n",
    "\n",
    "        fitness_sum = np.sum(parent_f)\n",
    "        fitness = parent_f / fitness_sum'''\n",
    "        fitness_sort = np.argsort(parent_f)[::-1][:2]\n",
    "        parent = parent[fitness_sort]\n",
    "        offspring = mutation(crossover(parent[0], parent[1]))\n",
    "        \n",
    "        parent = list(parent_original)\n",
    "        parent.append(offspring)\n",
    "        parent_f = list(parent_f_original)\n",
    "        parent_f.append(func(offspring))\n",
    "        budget = budget - 1\n",
    "        \n",
    "        '''fitness_sort = np.argsort(fitness)[:2]\n",
    "        parent = list(parent[fitness_sort])\n",
    "        parent_f = list(parent_f[fitness_sort])\n",
    "        \n",
    "\n",
    "        for i in range(len(parent)):\n",
    "            for j in range(i+1, len(parent)):\n",
    "                offspring = mutation(crossover(parent[i], parent[j]))\n",
    "                parent.append(offspring)\n",
    "                parent_f.append(func(offspring))\n",
    "                budget = budget - 1'''\n",
    "\n",
    "        parent = mating_seletion(parent, parent_f)\n",
    "        parent_f = []\n",
    "        for i in range(pop_size):\n",
    "            parent_f.append(func(parent[i]))\n",
    "        if func(parent[0])>f_opt:\n",
    "            f_opt = func(parent[0])\n",
    "            x_opt = parent[0]\n",
    "    # ioh function, to reset the recording status of the function.\n",
    "    func.reset()\n",
    "    print(f_opt,x_opt)\n",
    "    return f_opt, x_opt"
   ]
  },
  {
   "cell_type": "code",
   "execution_count": 24,
   "id": "c797684f",
   "metadata": {
    "lines_to_next_cell": 1
   },
   "outputs": [],
   "source": [
    "def main():\n",
    "    # We run the algorithm 20 independent times.\n",
    "    for _ in range(20):\n",
    "        genetic_algorithm(om)"
   ]
  },
  {
   "cell_type": "code",
   "execution_count": 25,
   "id": "fe611611",
   "metadata": {},
   "outputs": [
    {
     "name": "stdout",
     "output_type": "stream",
     "text": [
      "50.0 [1 1 1 1 1 1 1 1 1 1 1 1 1 1 1 1 1 1 1 1 1 1 1 1 1 1 1 1 1 1 1 1 1 1 1 1 1\n",
      " 1 1 1 1 1 1 1 1 1 1 1 1 1]\n",
      "50.0 [1 1 1 1 1 1 1 1 1 1 1 1 1 1 1 1 1 1 1 1 1 1 1 1 1 1 1 1 1 1 1 1 1 1 1 1 1\n",
      " 1 1 1 1 1 1 1 1 1 1 1 1 1]\n",
      "50.0 [1 1 1 1 1 1 1 1 1 1 1 1 1 1 1 1 1 1 1 1 1 1 1 1 1 1 1 1 1 1 1 1 1 1 1 1 1\n",
      " 1 1 1 1 1 1 1 1 1 1 1 1 1]\n",
      "50.0 [1 1 1 1 1 1 1 1 1 1 1 1 1 1 1 1 1 1 1 1 1 1 1 1 1 1 1 1 1 1 1 1 1 1 1 1 1\n",
      " 1 1 1 1 1 1 1 1 1 1 1 1 1]\n",
      "50.0 [1 1 1 1 1 1 1 1 1 1 1 1 1 1 1 1 1 1 1 1 1 1 1 1 1 1 1 1 1 1 1 1 1 1 1 1 1\n",
      " 1 1 1 1 1 1 1 1 1 1 1 1 1]\n",
      "50.0 [1 1 1 1 1 1 1 1 1 1 1 1 1 1 1 1 1 1 1 1 1 1 1 1 1 1 1 1 1 1 1 1 1 1 1 1 1\n",
      " 1 1 1 1 1 1 1 1 1 1 1 1 1]\n",
      "50.0 [1 1 1 1 1 1 1 1 1 1 1 1 1 1 1 1 1 1 1 1 1 1 1 1 1 1 1 1 1 1 1 1 1 1 1 1 1\n",
      " 1 1 1 1 1 1 1 1 1 1 1 1 1]\n",
      "50.0 [1 1 1 1 1 1 1 1 1 1 1 1 1 1 1 1 1 1 1 1 1 1 1 1 1 1 1 1 1 1 1 1 1 1 1 1 1\n",
      " 1 1 1 1 1 1 1 1 1 1 1 1 1]\n",
      "50.0 [1 1 1 1 1 1 1 1 1 1 1 1 1 1 1 1 1 1 1 1 1 1 1 1 1 1 1 1 1 1 1 1 1 1 1 1 1\n",
      " 1 1 1 1 1 1 1 1 1 1 1 1 1]\n",
      "50.0 [1 1 1 1 1 1 1 1 1 1 1 1 1 1 1 1 1 1 1 1 1 1 1 1 1 1 1 1 1 1 1 1 1 1 1 1 1\n",
      " 1 1 1 1 1 1 1 1 1 1 1 1 1]\n",
      "50.0 [1 1 1 1 1 1 1 1 1 1 1 1 1 1 1 1 1 1 1 1 1 1 1 1 1 1 1 1 1 1 1 1 1 1 1 1 1\n",
      " 1 1 1 1 1 1 1 1 1 1 1 1 1]\n",
      "50.0 [1 1 1 1 1 1 1 1 1 1 1 1 1 1 1 1 1 1 1 1 1 1 1 1 1 1 1 1 1 1 1 1 1 1 1 1 1\n",
      " 1 1 1 1 1 1 1 1 1 1 1 1 1]\n",
      "50.0 [1 1 1 1 1 1 1 1 1 1 1 1 1 1 1 1 1 1 1 1 1 1 1 1 1 1 1 1 1 1 1 1 1 1 1 1 1\n",
      " 1 1 1 1 1 1 1 1 1 1 1 1 1]\n",
      "50.0 [1 1 1 1 1 1 1 1 1 1 1 1 1 1 1 1 1 1 1 1 1 1 1 1 1 1 1 1 1 1 1 1 1 1 1 1 1\n",
      " 1 1 1 1 1 1 1 1 1 1 1 1 1]\n",
      "50.0 [1 1 1 1 1 1 1 1 1 1 1 1 1 1 1 1 1 1 1 1 1 1 1 1 1 1 1 1 1 1 1 1 1 1 1 1 1\n",
      " 1 1 1 1 1 1 1 1 1 1 1 1 1]\n",
      "50.0 [1 1 1 1 1 1 1 1 1 1 1 1 1 1 1 1 1 1 1 1 1 1 1 1 1 1 1 1 1 1 1 1 1 1 1 1 1\n",
      " 1 1 1 1 1 1 1 1 1 1 1 1 1]\n",
      "50.0 [1 1 1 1 1 1 1 1 1 1 1 1 1 1 1 1 1 1 1 1 1 1 1 1 1 1 1 1 1 1 1 1 1 1 1 1 1\n",
      " 1 1 1 1 1 1 1 1 1 1 1 1 1]\n",
      "50.0 [1 1 1 1 1 1 1 1 1 1 1 1 1 1 1 1 1 1 1 1 1 1 1 1 1 1 1 1 1 1 1 1 1 1 1 1 1\n",
      " 1 1 1 1 1 1 1 1 1 1 1 1 1]\n",
      "50.0 [1 1 1 1 1 1 1 1 1 1 1 1 1 1 1 1 1 1 1 1 1 1 1 1 1 1 1 1 1 1 1 1 1 1 1 1 1\n",
      " 1 1 1 1 1 1 1 1 1 1 1 1 1]\n",
      "50.0 [1 1 1 1 1 1 1 1 1 1 1 1 1 1 1 1 1 1 1 1 1 1 1 1 1 1 1 1 1 1 1 1 1 1 1 1 1\n",
      " 1 1 1 1 1 1 1 1 1 1 1 1 1]\n",
      "The program takes 0.7632277011871338 seconds\n"
     ]
    }
   ],
   "source": [
    "if __name__ == '__main__':\n",
    "  start = time.time()\n",
    "  main()\n",
    "  end = time.time()\n",
    "  print(\"The program takes %s seconds\" % (end-start))"
   ]
  }
 ],
 "metadata": {
  "jupytext": {
   "cell_metadata_filter": "-all",
   "main_language": "python",
   "notebook_metadata_filter": "-all"
  },
  "kernelspec": {
   "display_name": "BO",
   "language": "python",
   "name": "python3"
  },
  "language_info": {
   "codemirror_mode": {
    "name": "ipython",
    "version": 3
   },
   "file_extension": ".py",
   "mimetype": "text/x-python",
   "name": "python",
   "nbconvert_exporter": "python",
   "pygments_lexer": "ipython3",
   "version": "3.10.14"
  }
 },
 "nbformat": 4,
 "nbformat_minor": 5
}
